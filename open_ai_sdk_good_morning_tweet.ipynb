{
 "cells": [
  {
   "cell_type": "code",
   "execution_count": 1,
   "id": "fee44d16",
   "metadata": {},
   "outputs": [],
   "source": [
    "from dotenv import load_dotenv\n",
    "from openai import AsyncOpenAI\n",
    "from agents import Agent, Runner,set_tracing_disabled,OpenAIChatCompletionsModel\n",
    "import os\n",
    "from os.path import join"
   ]
  },
  {
   "cell_type": "code",
   "execution_count": null,
   "id": "541ceec9",
   "metadata": {},
   "outputs": [],
   "source": [
    "input_folder_path = '..\\inputs'\n",
    "yapping_info_file_path = 'yapping_info.txt'\n",
    "\n",
    "yapping_file = join(input_folder_path, yapping_info_file_path)\n",
    "\n",
    "print(yapping_file)"
   ]
  },
  {
   "cell_type": "code",
   "execution_count": 3,
   "id": "6c614c42",
   "metadata": {},
   "outputs": [
    {
     "data": {
      "text/plain": [
       "True"
      ]
     },
     "execution_count": 3,
     "metadata": {},
     "output_type": "execute_result"
    }
   ],
   "source": [
    "load_dotenv(override=True)"
   ]
  },
  {
   "cell_type": "code",
   "execution_count": 4,
   "id": "97188853",
   "metadata": {},
   "outputs": [],
   "source": [
    "perplexcity_model = \"sonar-pro\"\n",
    "ollama_model = 'qwen3:8b'"
   ]
  },
  {
   "cell_type": "code",
   "execution_count": 5,
   "id": "b0590bef",
   "metadata": {},
   "outputs": [
    {
     "name": "stdout",
     "output_type": "stream",
     "text": [
      "pplx\n"
     ]
    }
   ],
   "source": [
    "perplexcity_api_key =  os.getenv(\"PERPLEXCITY_API_KEY\")\n",
    "print(perplexcity_api_key[:4])"
   ]
  },
  {
   "cell_type": "code",
   "execution_count": 6,
   "id": "629f7d84",
   "metadata": {},
   "outputs": [],
   "source": [
    "ollama = AsyncOpenAI(\n",
    "    api_key = \"ollama\",\n",
    "    base_url = \"http://127.0.0.1:11434/v1\"\n",
    ")"
   ]
  },
  {
   "cell_type": "code",
   "execution_count": 7,
   "id": "bcb1d993",
   "metadata": {},
   "outputs": [],
   "source": [
    "\n",
    "perplexcity = AsyncOpenAI(\n",
    "    api_key=perplexcity_api_key,\n",
    "    base_url = \"https://api.perplexity.ai\"\n",
    ")"
   ]
  },
  {
   "cell_type": "code",
   "execution_count": 8,
   "id": "cbbd3ad5",
   "metadata": {},
   "outputs": [],
   "source": [
    "set_tracing_disabled(True)"
   ]
  },
  {
   "cell_type": "code",
   "execution_count": 9,
   "id": "661ffdd7",
   "metadata": {},
   "outputs": [],
   "source": [
    "ollama_agent = OpenAIChatCompletionsModel(\n",
    "        model=ollama_model,\n",
    "        openai_client=ollama)"
   ]
  },
  {
   "cell_type": "code",
   "execution_count": 10,
   "id": "a1226d33",
   "metadata": {},
   "outputs": [],
   "source": [
    "perplexcity_agent = OpenAIChatCompletionsModel(\n",
    "        model=perplexcity_model,\n",
    "        openai_client=perplexcity)"
   ]
  },
  {
   "cell_type": "code",
   "execution_count": 11,
   "id": "5809dadd",
   "metadata": {},
   "outputs": [],
   "source": [
    "def process_ai_response(response):\n",
    "    if \"<think>\" in response and \"</think>\" in response:\n",
    "        # Extract everything cleanly\n",
    "        before_think = response.split(\"<think>\")[0]\n",
    "        think_content = response.split(\"<think>\")[1].split(\"</think>\")[0]\n",
    "        after_think = response.split(\"</think>\")[1]\n",
    "\n",
    "        # Format the think block for display\n",
    "        formatted_think = f\"> 💭 *{think_content.strip()}*\"\n",
    "\n",
    "        # Combine all parts\n",
    "        return after_think.strip()\n",
    "    else:\n",
    "        return response"
   ]
  },
  {
   "cell_type": "code",
   "execution_count": 12,
   "id": "02815ffc",
   "metadata": {},
   "outputs": [
    {
     "name": "stdout",
     "output_type": "stream",
     "text": [
      "I am working as a crypto X(formarly twitter) content creator. \n",
      "when a new crypto project release, they will have a marketing campaign in a platform called kaito yapps\n",
      "\n",
      "Kaito Yaps is an AI-driven crypto rewards program that incentivizes sharing smart, original, and engaging crypto insights on X.\n",
      "\n",
      "Rewards users for high-quality, insightful crypto posts via \"Yap Points,\" with engagement, relevance, and originality prioritized.\n",
      "\n",
      "Uses AI to distinguish genuine contributions from spam, enabling fair recognition and potential future airdrops.\n",
      "\n",
      "Leaderboards track influential contributors and foster healthy competition in the crypto information ecosystem.\n",
      "\n",
      "Aims to build the world's first tokenized attention economy for web3 knowledge sharing.\n",
      "\n",
      "currently I am yapping on OpenLedger project with twitter or X handle @OpenLedgerHQ and also for another project called Billions with X or twitter handle as @billions_ntwk\n",
      "\n",
      "so, in every good morning and good night wish I need to add content about the same. \n",
      "\n",
      "for example in good morning wish I can tell like \"keep yapping on @OpenLedgerHQ and @billions_ntwk.\" like this I can make.\n",
      "\n"
     ]
    }
   ],
   "source": [
    "with open(yapping_file) as f:\n",
    "    yapping_file = f.read()\n",
    "\n",
    "print(yapping_file)"
   ]
  },
  {
   "cell_type": "code",
   "execution_count": 13,
   "id": "8e4f14d2",
   "metadata": {},
   "outputs": [
    {
     "name": "stdout",
     "output_type": "stream",
     "text": [
      "you are working as a good morning wishing agent who wish good morning to crypto twitter. you will do the following : \n",
      "     - will wish a energetic good morning message to the crypto fam. \n",
      "     - the wish should sound like humanly. \n",
      "     - should never use the words like low key. \n",
      "     - can add some genz wibe to the wish. or crypto meme vibe. \n",
      "     - add emojis as needed, but not too many emojis \n",
      "     - never use '-'.\n",
      "\n",
      "you are working as a agent who shared latest news about the AI advances. you will do the following : \n",
      "     - search internet to find latest news about AI world. get the information about agentic AI or AI models and LLM.\n",
      "     - find the best info that is relevent and latest from the gathered information. \n",
      "     - you will then summarize the information in minimal words, 20 words. \n",
      "     - you will only get one news or info to the user which you think is the most relevant to new information about AI. \n",
      "     - you will present the news in a energetic manner, catchy opening, tweet meme culture. \n",
      "     - you should never use the words like leveled up, -, low key\n",
      "you are working as a helper who identify the project the user is yapping about. the yapping info is presented to you, you will then make a catchy statement to ask the followers of the user to yapp about the project the user is yapping about. \n",
      "     the yapping information is as follows : \n",
      " \n",
      "         I am working as a crypto X(formarly twitter) content creator. \n",
      "when a new crypto project release, they will have a marketing campaign in a platform called kaito yapps\n",
      "\n",
      "Kaito Yaps is an AI-driven crypto rewards program that incentivizes sharing smart, original, and engaging crypto insights on X.\n",
      "\n",
      "Rewards users for high-quality, insightful crypto posts via \"Yap Points,\" with engagement, relevance, and originality prioritized.\n",
      "\n",
      "Uses AI to distinguish genuine contributions from spam, enabling fair recognition and potential future airdrops.\n",
      "\n",
      "Leaderboards track influential contributors and foster healthy competition in the crypto information ecosystem.\n",
      "\n",
      "Aims to build the world's first tokenized attention economy for web3 knowledge sharing.\n",
      "\n",
      "currently I am yapping on OpenLedger project with twitter or X handle @OpenLedgerHQ and also for another project called Billions with X or twitter handle as @billions_ntwk\n",
      "\n",
      "so, in every good morning and good night wish I need to add content about the same. \n",
      "\n",
      "for example in good morning wish I can tell like \"keep yapping on @OpenLedgerHQ and @billions_ntwk.\" like this I can make.\n",
      " \n",
      "             - you will find the relevant twitter handle from the informatin given to you. \n",
      "             - you will then make a catchy statement which ask the followers of the user to yapp about the project which user is yapping about. \n",
      "             - the statement should contain all the @ or tweeter handle of the project mentoined in the project. \n",
      "             - for example, a message can be like : Fam, keep yapping about @<twitter handle of project 1> and @<twitter handle of project 2>. this is just an example. the original one should have the twitter handle detail along with energetic message. \n",
      "             - don't add any info about time like good night, good morning. just the yapping message is enough. \n",
      "             - remove anything in <think> and </think> tags. remove any text inside the tag and tag itself and present the info to the user\n"
     ]
    }
   ],
   "source": [
    "good_morning_wish_instruct = 'you are working as a good morning wishing agent who wish good morning to crypto twitter. you will do the following : \\n \\\n",
    "    - will wish a energetic good morning message to the crypto fam. \\n \\\n",
    "    - the wish should sound like humanly. \\n \\\n",
    "    - should never use the words like low key. \\n \\\n",
    "    - can add some genz wibe to the wish. or crypto meme vibe. \\n \\\n",
    "    - add emojis as needed, but not too many emojis \\n \\\n",
    "    - never use \\'-\\'.'\n",
    "\n",
    "ai_info_instruct = 'you are working as a agent who shared latest news about the AI advances. you will do the following : \\n \\\n",
    "    - search internet to find latest news about AI world. get the information about agentic AI or AI models and LLM.\\n \\\n",
    "    - find the best info that is relevent and latest from the gathered information. \\n \\\n",
    "    - you will then summarize the information in minimal words, 20 words. \\n \\\n",
    "    - you will only get one news or info to the user which you think is the most relevant to new information about AI. \\n \\\n",
    "    - you will present the news in a energetic manner, catchy opening, tweet meme culture. \\n \\\n",
    "    - you should never use the words like leveled up, -, low key'\n",
    "\n",
    "yapping_info_instruct = f'you are working as a helper who identify the project the user is yapping about. the yapping info is presented to you, you will then make a catchy statement to ask the followers of the user to yapp about the project the user is yapping about. \\n \\\n",
    "    the yapping information is as follows : \\n \\n \\\n",
    "        {yapping_file} \\n \\\n",
    "            - you will find the relevant twitter handle from the informatin given to you. \\n \\\n",
    "            - you will then make a catchy statement which ask the followers of the user to yapp about the project which user is yapping about. \\n \\\n",
    "            - the statement should contain all the @ or tweeter handle of the project mentoined in the project. \\n \\\n",
    "            - for example, a message can be like : Fam, keep yapping about @<twitter handle of project 1> and @<twitter handle of project 2>. this is just an example. the original one should have the twitter handle detail along with energetic message. \\n \\\n",
    "            - don\\'t add any info about time like good night, good morning. just the yapping message is enough. \\n \\\n",
    "            - remove anything in <think> and </think> tags. remove any text inside the tag and tag itself and present the info to the user'\n",
    "\n",
    "print(good_morning_wish_instruct + \"\\n\")\n",
    "print(ai_info_instruct)\n",
    "print(yapping_info_instruct)"
   ]
  },
  {
   "cell_type": "code",
   "execution_count": 14,
   "id": "bc52c698",
   "metadata": {},
   "outputs": [],
   "source": [
    "good_morning_wish_agent = Agent('good_morning_wish_agent' , instructions=good_morning_wish_instruct, model=perplexcity_agent)"
   ]
  },
  {
   "cell_type": "code",
   "execution_count": 15,
   "id": "07833d38",
   "metadata": {},
   "outputs": [],
   "source": [
    "ai_info_agent = Agent('ai_info',ai_info_instruct, instructions=ai_info_instruct, model=perplexcity_agent)"
   ]
  },
  {
   "cell_type": "code",
   "execution_count": 16,
   "id": "9c9f824a",
   "metadata": {},
   "outputs": [],
   "source": [
    "yapping_info_agent = Agent(\"yapp_info\", instructions=yapping_info_instruct, model=ollama_agent)"
   ]
  },
  {
   "cell_type": "code",
   "execution_count": 17,
   "id": "29d9e9ec",
   "metadata": {},
   "outputs": [
    {
     "name": "stdout",
     "output_type": "stream",
     "text": [
      "FunctionTool(name='good_morning_wish', description='used to generate a good morning wish to twitter crypto users', params_json_schema={'properties': {'input': {'title': 'Input', 'type': 'string'}}, 'required': ['input'], 'title': 'good_morning_wish_args', 'type': 'object', 'additionalProperties': False}, on_invoke_tool=<function function_tool.<locals>._create_function_tool.<locals>._on_invoke_tool at 0x000001237F8AB240>, strict_json_schema=True, is_enabled=True) \n",
      " FunctionTool(name='ai_info_finder', description='give latest information in AI world', params_json_schema={'properties': {'input': {'title': 'Input', 'type': 'string'}}, 'required': ['input'], 'title': 'ai_info_finder_args', 'type': 'object', 'additionalProperties': False}, on_invoke_tool=<function function_tool.<locals>._create_function_tool.<locals>._on_invoke_tool at 0x000001237F8AB600>, strict_json_schema=True, is_enabled=True) \n",
      " FunctionTool(name='yapp_info', description='use this tool to get yapp info and the project the user is yapping about.', params_json_schema={'properties': {'input': {'title': 'Input', 'type': 'string'}}, 'required': ['input'], 'title': 'yapp_info_args', 'type': 'object', 'additionalProperties': False}, on_invoke_tool=<function function_tool.<locals>._create_function_tool.<locals>._on_invoke_tool at 0x000001237F8AB740>, strict_json_schema=True, is_enabled=True)\n"
     ]
    }
   ],
   "source": [
    "good_morning_wish_tool = good_morning_wish_agent.as_tool(tool_name='good_morning_wish', tool_description='used to generate a good morning wish to twitter crypto users')\n",
    "ai_info_tool = ai_info_agent.as_tool(tool_name='ai_info_finder', tool_description='give latest information in AI world')\n",
    "yapp_info_tool = yapping_info_agent.as_tool(tool_name='yapp_info' , tool_description='use this tool to get yapp info and the project the user is yapping about.')\n",
    "\n",
    "print(f'{good_morning_wish_tool} \\n {ai_info_tool} \\n {yapp_info_tool}')"
   ]
  },
  {
   "cell_type": "code",
   "execution_count": 18,
   "id": "9c149252",
   "metadata": {},
   "outputs": [
    {
     "name": "stdout",
     "output_type": "stream",
     "text": [
      "[FunctionTool(name='good_morning_wish', description='used to generate a good morning wish to twitter crypto users', params_json_schema={'properties': {'input': {'title': 'Input', 'type': 'string'}}, 'required': ['input'], 'title': 'good_morning_wish_args', 'type': 'object', 'additionalProperties': False}, on_invoke_tool=<function function_tool.<locals>._create_function_tool.<locals>._on_invoke_tool at 0x000001237F8AB240>, strict_json_schema=True, is_enabled=True), FunctionTool(name='ai_info_finder', description='give latest information in AI world', params_json_schema={'properties': {'input': {'title': 'Input', 'type': 'string'}}, 'required': ['input'], 'title': 'ai_info_finder_args', 'type': 'object', 'additionalProperties': False}, on_invoke_tool=<function function_tool.<locals>._create_function_tool.<locals>._on_invoke_tool at 0x000001237F8AB600>, strict_json_schema=True, is_enabled=True), FunctionTool(name='yapp_info', description='use this tool to get yapp info and the project the user is yapping about.', params_json_schema={'properties': {'input': {'title': 'Input', 'type': 'string'}}, 'required': ['input'], 'title': 'yapp_info_args', 'type': 'object', 'additionalProperties': False}, on_invoke_tool=<function function_tool.<locals>._create_function_tool.<locals>._on_invoke_tool at 0x000001237F8AB740>, strict_json_schema=True, is_enabled=True)]\n"
     ]
    }
   ],
   "source": [
    "tools = [good_morning_wish_tool,ai_info_tool,yapp_info_tool]\n",
    "print(tools)"
   ]
  },
  {
   "cell_type": "code",
   "execution_count": 19,
   "id": "7f97ea49",
   "metadata": {},
   "outputs": [
    {
     "name": "stdout",
     "output_type": "stream",
     "text": [
      " you are working as a agent who helps the user to make tweet. user is focusing on crypto twitter. you will do the following : \n",
      "     - add the good morning wish given to you. \n",
      "     - then you will add the ai information given to you. \n",
      "     - next you will add the yapping information presented to you. \n",
      "     - conclude the tweet in a funny way. the tweet is a good morning tweet. so conclude the tweet in a funny way which fit in the context and relatable to people.\n"
     ]
    }
   ],
   "source": [
    "tweet_creator_master_instruct = ' you are working as a agent who helps the user to make tweet. user is focusing on crypto twitter. you will do the following : \\n \\\n",
    "    - add the good morning wish given to you. \\n \\\n",
    "    - then you will add the ai information given to you. \\n \\\n",
    "    - next you will add the yapping information presented to you. \\n \\\n",
    "    - conclude the tweet in a funny way. the tweet is a good morning tweet. so conclude the tweet in a funny way which fit in the context and relatable to people.'\n",
    "\n",
    "print(tweet_creator_master_instruct)"
   ]
  },
  {
   "cell_type": "code",
   "execution_count": 20,
   "id": "ab36484c",
   "metadata": {},
   "outputs": [],
   "source": [
    "tweet_creator_master_agent = Agent('tweet_draft_master' , instructions=tweet_creator_master_instruct, model = perplexcity_agent, handoff_description='convert the given information to a meaningful crypto tweet.')"
   ]
  },
  {
   "cell_type": "code",
   "execution_count": 21,
   "id": "7171fedc",
   "metadata": {},
   "outputs": [
    {
     "name": "stdout",
     "output_type": "stream",
     "text": [
      "you are an  agent who cordinate  good morning tweet creaion for the user. user is focusing on crypto tweetitter. AS a tweet drafting agent, you will do the following : \n",
      "     - get the good morning wish from good_morning_wish tool. \n",
      "     - process the information you got. \n",
      "     - get latest ai info from ai_info_finder. \n",
      "     - process the information you got. \n",
      "     - use the tool yapp_info to get the message that you need to add for the yapping project user is doing. this tool will have content in <think> and </think> tags. don't consider the tags and the content inside the tags. use the other info shared by the tool for the yapp informaiton. \n",
      "     - once you get all the information, you will hand over the information to tweet tweet_draft_master tool\n"
     ]
    }
   ],
   "source": [
    "tweet_cordinator_instruct = 'you are an  agent who cordinate  good morning tweet creaion for the user. user is focusing on crypto tweetitter. AS a tweet drafting agent, you will do the following : \\n \\\n",
    "    - get the good morning wish from good_morning_wish tool. \\n \\\n",
    "    - process the information you got. \\n \\\n",
    "    - get latest ai info from ai_info_finder. \\n \\\n",
    "    - process the information you got. \\n \\\n",
    "    - use the tool yapp_info to get the message that you need to add for the yapping project user is doing. this tool will have content in <think> and </think> tags. don\\'t consider the tags and the content inside the tags. use the other info shared by the tool for the yapp informaiton. \\n \\\n",
    "    - once you get all the information, you will hand over the information to tweet tweet_draft_master tool'\n",
    "\n",
    "print(tweet_cordinator_instruct)"
   ]
  },
  {
   "cell_type": "code",
   "execution_count": 22,
   "id": "4dcf99b2",
   "metadata": {},
   "outputs": [],
   "source": [
    "tweet_cordinator_agent = Agent('tweet_cordinator', instructions = tweet_cordinator_instruct, model = ollama_agent, tools=tools, handoffs=[tweet_creator_master_agent])"
   ]
  },
  {
   "cell_type": "code",
   "execution_count": 45,
   "id": "771f6cfb",
   "metadata": {},
   "outputs": [],
   "source": [
    "result = await Runner.run(tweet_cordinator_agent, 'draft me the good morning tweet')\n"
   ]
  },
  {
   "cell_type": "code",
   "execution_count": 46,
   "id": "e3ce706e",
   "metadata": {},
   "outputs": [
    {
     "name": "stdout",
     "output_type": "stream",
     "text": [
      "Good morning, Crypto fam! ☀️ Here’s your daily nugget: AI is taking things up a notch—Bittensor (TAO) is gearing up for its first halving and a dTAO upgrade that’s making subnet investments go wild. Meanwhile, everyone’s still yapping about @OpenLedgerHQ & @billions_ntwk and their latest moves! Stay sharp out there... my portfolio’s got more drama than a Reality TV reunion. 💸📈 #Crypto #AI #Web3\n"
     ]
    }
   ],
   "source": [
    "print(result.final_output)"
   ]
  }
 ],
 "metadata": {
  "kernelspec": {
   "display_name": ".venv",
   "language": "python",
   "name": "python3"
  },
  "language_info": {
   "codemirror_mode": {
    "name": "ipython",
    "version": 3
   },
   "file_extension": ".py",
   "mimetype": "text/x-python",
   "name": "python",
   "nbconvert_exporter": "python",
   "pygments_lexer": "ipython3",
   "version": "3.12.11"
  }
 },
 "nbformat": 4,
 "nbformat_minor": 5
}
